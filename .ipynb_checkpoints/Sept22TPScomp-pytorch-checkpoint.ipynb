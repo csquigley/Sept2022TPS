{
 "cells": [
  {
   "cell_type": "code",
   "execution_count": 1,
   "id": "2f797bdd",
   "metadata": {},
   "outputs": [],
   "source": [
    "import torch"
   ]
  },
  {
   "cell_type": "code",
   "execution_count": 2,
   "id": "dae3aa38",
   "metadata": {},
   "outputs": [],
   "source": [
    "import torch.nn as nn"
   ]
  },
  {
   "cell_type": "code",
   "execution_count": 3,
   "id": "0cd4b890",
   "metadata": {},
   "outputs": [],
   "source": [
    "#basic imports for data preprocessing\n",
    "import pandas as pd\n",
    "import numpy as np\n",
    "from sklearn.preprocessing import OneHotEncoder\n",
    "#import data\n",
    "data = pd.read_csv(\"../data/train.csv\")\n",
    "#check out the data\n"
   ]
  },
  {
   "cell_type": "code",
   "execution_count": 9,
   "id": "5e009784",
   "metadata": {},
   "outputs": [
    {
     "ename": "NameError",
     "evalue": "name 'ls' is not defined",
     "output_type": "error",
     "traceback": [
      "\u001b[0;31m---------------------------------------------------------------------------\u001b[0m",
      "\u001b[0;31mNameError\u001b[0m                                 Traceback (most recent call last)",
      "Input \u001b[0;32mIn [9]\u001b[0m, in \u001b[0;36m<cell line: 2>\u001b[0;34m()\u001b[0m\n\u001b[1;32m      1\u001b[0m \u001b[38;5;66;03m# public_holidays = pd.read_csv(\"../data/EUpublicholidays.csv \")\u001b[39;00m\n\u001b[0;32m----> 2\u001b[0m \u001b[43mls\u001b[49m\n",
      "\u001b[0;31mNameError\u001b[0m: name 'ls' is not defined"
     ]
    }
   ],
   "source": [
    "# public_holidays = pd.read_csv(\"../data/EUpublicholidays.csv \")\n",
    "ls\n"
   ]
  },
  {
   "cell_type": "code",
   "execution_count": 11,
   "id": "a4306ec8",
   "metadata": {},
   "outputs": [
    {
     "name": "stdout",
     "output_type": "stream",
     "text": [
      "EUpublicholidays.csv  test.csv  train.csv\r\n"
     ]
    }
   ],
   "source": [
    "ls ../data"
   ]
  },
  {
   "cell_type": "code",
   "execution_count": null,
   "id": "a69e0178",
   "metadata": {},
   "outputs": [],
   "source": []
  },
  {
   "cell_type": "code",
   "execution_count": null,
   "id": "85588387",
   "metadata": {},
   "outputs": [],
   "source": []
  },
  {
   "cell_type": "code",
   "execution_count": null,
   "id": "a412f2d8",
   "metadata": {},
   "outputs": [],
   "source": [
    "data['date']=pd.to_datetime(data['date'])\n",
    "#don't use date because model cannot understand raw date data\n",
    "#instead collect useful data from date\n",
    "data['weekday'] = data['date'].map(lambda x : x.dayofweek).astype('category')\n",
    "data['month'] = data['date'].map(lambda x : x.month).astype('category')\n",
    "data['monthday'] = data['date'].map(lambda x : x.day).astype('category')\n",
    "#year is the only continuous variable, it needs to be scaled\n",
    "data['year'] = data['date'].map(lambda x : x.year - 2016).astype(float)\n",
    "data['year'] = data['year'].map(lambda x : (x - 1)/(4-1))\n",
    "dataf = data.drop('row_id',axis=1).drop('date',axis=1).sample(frac=1).reset_index()\n",
    "dataf.drop('index',axis=1,inplace=True)\n",
    "\n",
    "# dataf.drop('num_sold',axis=1,inplace=True)\n",
    "\n",
    "\n",
    "dataf = dataf.where(dataf['country']=='Italy')\n",
    "dataf = dataf.drop(np.where(dataf['country'].isnull())[0])\n",
    "y = dataf['num_sold'].to_numpy().astype('float32').reshape(-1,1)"
   ]
  },
  {
   "cell_type": "code",
   "execution_count": null,
   "id": "4f1f9725",
   "metadata": {},
   "outputs": [],
   "source": []
  },
  {
   "cell_type": "code",
   "execution_count": null,
   "id": "33062ec7",
   "metadata": {},
   "outputs": [],
   "source": [
    "ENC = OneHotEncoder(sparse=False)\n",
    "transforms = ENC.fit_transform(dataf[['weekday','month','monthday','product','store']])\n",
    "year = dataf['year'].to_numpy().reshape(-1,1)"
   ]
  },
  {
   "cell_type": "code",
   "execution_count": null,
   "id": "8051292a",
   "metadata": {},
   "outputs": [],
   "source": [
    "full_data = np.concatenate((transforms,year,y),axis=1)\n",
    "training_data = full_data[:(len(full_data)-2000)]\n",
    "test_data = full_data[(len(full_data)-2000):]"
   ]
  },
  {
   "cell_type": "code",
   "execution_count": null,
   "id": "0f00265b",
   "metadata": {},
   "outputs": [],
   "source": [
    "x_train = training_data[:,:-1][:]\n",
    "y_train = training_data[:,-1:][:]\n",
    "x_test = test_data[:,:-1]\n",
    "y_test = test_data[:,-1:]\n",
    "\n",
    "print(x_train.shape)"
   ]
  },
  {
   "cell_type": "code",
   "execution_count": null,
   "id": "97eb655a",
   "metadata": {},
   "outputs": [],
   "source": [
    "from torch.utils.data import DataLoader, Dataset"
   ]
  },
  {
   "cell_type": "code",
   "execution_count": null,
   "id": "e0e148fa",
   "metadata": {},
   "outputs": [],
   "source": [
    "x_train = torch.tensor(x_train,dtype=torch.float32)\n",
    "y_train = torch.tensor(y_train,dtype=torch.float32)\n",
    "x_test = torch.tensor(x_test,dtype=torch.float32)\n",
    "y_test = torch.tensor(y_test,dtype=torch.float32)"
   ]
  },
  {
   "cell_type": "code",
   "execution_count": null,
   "id": "c3c25a0e",
   "metadata": {},
   "outputs": [],
   "source": [
    "x_train.shape"
   ]
  },
  {
   "cell_type": "code",
   "execution_count": null,
   "id": "594f5d3c",
   "metadata": {},
   "outputs": [],
   "source": [
    "class DataSetMaker:\n",
    "    def __init__(self,X,y):\n",
    "        self.X = X\n",
    "        self.y = y\n",
    "    def __len__(self):\n",
    "        return len(self.X)\n",
    "    def __getitem__(self,idx):\n",
    "        return [self.X[idx], self.y[idx]]\n",
    "training_data =  DataSetMaker(x_train,y_train)\n",
    "test_data = DataSetMaker(x_test,y_test)\n",
    "\n",
    "training_data_loader = DataLoader(training_data,batch_size=32,shuffle=True)\n",
    "test_data_loader = DataLoader(test_data,batch_size=32,shuffle=False)"
   ]
  },
  {
   "cell_type": "code",
   "execution_count": null,
   "id": "74106c35",
   "metadata": {},
   "outputs": [],
   "source": [
    "neurons =1024\n",
    "dropout = 0.02\n",
    "\n",
    "class NeuralNetwork(nn.Module):\n",
    "    def __init__(self):\n",
    "        super(NeuralNetwork, self).__init__()\n",
    "        self.linear_relu_stack = nn.Sequential(\n",
    "            nn.Linear(57, neurons),\n",
    "            nn.ReLU(),\n",
    "            nn.Dropout(p=dropout),\n",
    "            nn.Linear(neurons, neurons),\n",
    "            nn.ReLU(),\n",
    "            nn.Dropout(p=dropout),\n",
    "            nn.Linear(neurons, 1),\n",
    "        )\n",
    "\n",
    "    def forward(self, x):\n",
    "        pred = self.linear_relu_stack(x)\n",
    "        return pred\n",
    "\n",
    "model = NeuralNetwork()\n"
   ]
  },
  {
   "cell_type": "code",
   "execution_count": null,
   "id": "e5c1ea67",
   "metadata": {},
   "outputs": [],
   "source": [
    "learning_rate = 1e-3\n",
    "batch_size = 8"
   ]
  },
  {
   "cell_type": "code",
   "execution_count": null,
   "id": "b45b4d8e",
   "metadata": {},
   "outputs": [],
   "source": [
    "loss = nn.MSELoss()"
   ]
  },
  {
   "cell_type": "code",
   "execution_count": null,
   "id": "6bbabdec",
   "metadata": {},
   "outputs": [],
   "source": [
    "optimizer = torch.optim.Adam(model.parameters(), lr=learning_rate)"
   ]
  },
  {
   "cell_type": "code",
   "execution_count": null,
   "id": "ccdaebc6",
   "metadata": {},
   "outputs": [],
   "source": [
    "def train_loop(dataloader, model, loss_fn, optimizer):\n",
    "    size = len(dataloader.dataset)\n",
    "    for batch, (X, y) in enumerate(dataloader):\n",
    "        # Compute prediction and loss\n",
    "        pred = model(X)\n",
    "        loss = loss_fn(pred, y)\n",
    "\n",
    "        # Backpropagation\n",
    "        optimizer.zero_grad()\n",
    "        loss.backward()\n",
    "        optimizer.step()\n",
    "\n",
    "        if batch % 100 == 0:\n",
    "            loss, current = loss.item(), batch * len(X)\n",
    "            print(f\"loss: {loss:>7f}  [{current:>5d}/{size:>5d}]\")\n",
    "\n",
    "\n",
    "def test_loop(dataloader, model, loss):\n",
    "    size = len(dataloader.dataset)\n",
    "    num_batches = len(dataloader)\n",
    "    test_loss, correct = 0, 0\n",
    "\n",
    "    with torch.no_grad():\n",
    "        for X, y in dataloader:\n",
    "            pred = model(X)\n",
    "            test_loss += loss(pred, y).item()\n",
    "\n",
    "\n",
    "    test_loss /= num_batches\n",
    "\n",
    "    print(f\"Test Error: Avg loss: {test_loss:>8f} \\n\")"
   ]
  },
  {
   "cell_type": "code",
   "execution_count": null,
   "id": "5dee39a8",
   "metadata": {},
   "outputs": [],
   "source": [
    "model.float()\n",
    "epochs = 250\n",
    "for t in range(epochs):\n",
    "\n",
    "    print(f\"Epoch {t+1}\\n-------------------------------\")\n",
    "    train_loop(training_data_loader, model, loss, optimizer)\n",
    "    test_loop(test_data_loader, model, loss)\n",
    "print(\"Done!\")"
   ]
  },
  {
   "cell_type": "code",
   "execution_count": null,
   "id": "dd2f7183",
   "metadata": {},
   "outputs": [],
   "source": [
    "data['year'].value_counts()"
   ]
  },
  {
   "cell_type": "code",
   "execution_count": null,
   "id": "0aa70e6d",
   "metadata": {},
   "outputs": [],
   "source": []
  }
 ],
 "metadata": {
  "kernelspec": {
   "display_name": "Python 3 (ipykernel)",
   "language": "python",
   "name": "python3"
  },
  "language_info": {
   "codemirror_mode": {
    "name": "ipython",
    "version": 3
   },
   "file_extension": ".py",
   "mimetype": "text/x-python",
   "name": "python",
   "nbconvert_exporter": "python",
   "pygments_lexer": "ipython3",
   "version": "3.9.12"
  }
 },
 "nbformat": 4,
 "nbformat_minor": 5
}
